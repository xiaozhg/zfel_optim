{
 "cells": [
  {
   "cell_type": "markdown",
   "metadata": {},
   "source": [
    "1.Import packages"
   ]
  },
  {
   "cell_type": "code",
   "execution_count": 1,
   "metadata": {},
   "outputs": [],
   "source": [
    "import pandas as pd\n",
    "import numpy as np\n",
    "from numpy import genfromtxt\n",
    "import matplotlib.pyplot as plt\n",
    "%matplotlib inline\n",
    "import scipy.io\n",
    "import random\n",
    "import datetime\n",
    "import time\n",
    "#from zfel import sase1d_input_part\n",
    "import sase1d_input_part\n",
    "import torch\n",
    "import torch.optim as optim"
   ]
  },
  {
   "cell_type": "markdown",
   "metadata": {},
   "source": [
    "2.Input parameters"
   ]
  },
  {
   "cell_type": "code",
   "execution_count": 22,
   "metadata": {},
   "outputs": [],
   "source": [
    "Nruns=1                             # Number of runs\n",
    "npart   = 512                       # n-macro-particles per bucket \n",
    "s_steps = 31#200#31                    # n-sample points along bunch length\n",
    "z_steps = 20#200#20                    # n-sample points along undulator\n",
    "energy  = 4313.34*1E6               # electron energy [eV]\n",
    "eSpread = 0#1.0e-4                  # relative rms energy spread [ ]\n",
    "emitN   = 1.2e-6                    # normalized transverse emittance [m-rad]\n",
    "currentMax = 3900                   # peak current [Ampere]\n",
    "beta = 26                           # mean beta [meter]\n",
    "unduPeriod = 0.03                   # undulator period [meter]\n",
    "#unduK = 3.5                        # undulator parameter, K [ ]\n",
    "unduK = np.ones(z_steps)*3.5  # tapered undulator parameter, K [ ]\n",
    "if unduK.shape[0]!=z_steps:\n",
    "    print('Wrong! Number of steps should always be the same as z_steps')\n",
    "unduL = 70#30                       # length of undulator [meter]\n",
    "radWavelength = 1.5e-9              # seed wavelength? [meter], used only in single-freuqency runs\n",
    "dEdz = 0                            # rate of relative energy gain or taper [keV/m], optimal~130\n",
    "iopt = 'sase'                       # 'sase' or 'seeded'\n",
    "P0 = 10000*0.0                      # small seed input power [W]\n",
    "constseed = 1                       # whether we want to use constant random seed for reproducibility, 1 Yes, 0 No\n",
    "particle_position=genfromtxt('./Inputs/particle_position.csv', delimiter=',') # or None  \n",
    "# particle information with positions in meter and eta,\\\n",
    "# if we want to load random particle positions and energy, then set None\n",
    "hist_rule='square-root'             # 'square-root' or 'sturges' or 'rice-rule' or 'self-design', number \\\n",
    "                                    #  of intervals to generate the histogram of eta value in a bucket"
   ]
  },
  {
   "cell_type": "code",
   "execution_count": 23,
   "metadata": {},
   "outputs": [],
   "source": [
    "'''\n",
    "Put input parameters into a inp_struct dict, for 1D FEL run\n",
    "'''\n",
    "inp_struct={'Nruns':Nruns,'npart':npart,'s_steps':s_steps,'z_steps':z_steps,'energy':energy,'eSpread':eSpread,\\\n",
    "            'emitN':emitN,'currentMax':currentMax,'beta':beta,'unduPeriod':unduPeriod,'unduK':unduK,'unduL':\\\n",
    "            unduL,'radWavelength':radWavelength,'dEdz':dEdz,'iopt':iopt,'P0':P0,'constseed':constseed,'particle_position':particle_position,'hist_rule':hist_rule}"
   ]
  },
  {
   "cell_type": "code",
   "execution_count": null,
   "metadata": {},
   "outputs": [],
   "source": []
  },
  {
   "cell_type": "markdown",
   "metadata": {},
   "source": [
    "3.1D FEL run"
   ]
  },
  {
   "cell_type": "markdown",
   "metadata": {},
   "source": [
    "Method 1: allow exploring all taper values"
   ]
  },
  {
   "cell_type": "code",
   "execution_count": 54,
   "metadata": {},
   "outputs": [
    {
     "name": "stdout",
     "output_type": "stream",
     "text": [
      "The autoreload extension is already loaded. To reload it, use:\n",
      "  %reload_ext autoreload\n"
     ]
    }
   ],
   "source": [
    "%load_ext autoreload\n",
    "%autoreload\n",
    "\n",
    "unduK = np.ones(z_steps)*3.5 #np.arange(3.52,3.48,-0.04/(z_steps-1))#   # tapered undulator parameter, K [ ]\n",
    "if unduK.shape[0]!=z_steps:\n",
    "    print('Wrong! Number of steps should always be the same as z_steps')\n",
    "#unduK_1=torch.tensor(unduK[:int(z_steps/2)],dtype=torch.float64)\n",
    "#unduK_2=torch.tensor(unduK[int(z_steps/2):],dtype=torch.float64,requires_grad=True)\n",
    "unduK_1=torch.tensor(unduK[:int(z_steps/2)],dtype=torch.float64)\n",
    "unduK_2=torch.tensor(unduK[int(z_steps/2):int(z_steps/2)+1],dtype=torch.float64,requires_grad=True)\n",
    "unduK_3=torch.tensor(unduK[int(z_steps/2)+1:],dtype=torch.float64)\n",
    "#unduK = torch.tensor(unduK, dtype=torch.float64, requires_grad=True)\n",
    "#undu_K=torch.cat((unduK_1,unduK_2))\n",
    "#params_K = unduK\n",
    "#learning_rate = 5e-21\n",
    "#optimizer = optim.SGD([unduK_2], lr=learning_rate)\n",
    "#lr = 5e-21*torch.arange(unduK_2.shape[0])**4\n",
    "lr = 5e-21\n",
    "n_epochs = 3000\n",
    "his_FEL_power=[]"
   ]
  },
  {
   "cell_type": "code",
   "execution_count": 55,
   "metadata": {},
   "outputs": [],
   "source": [
    "def training_loop(n_epochs, lr, unduK_1, unduK_2, unduK_3, his_FEL_power):\n",
    "    for epoch in range(1, n_epochs + 1):\n",
    "        print('epochs:',epoch)\n",
    "        lr=lr/2\n",
    "        '''\n",
    "        Use sase function in sase1d.py to run 1D FEL\n",
    "        '''\n",
    "        #with torch.autograd.set_detect_anomaly(True):\n",
    "        #inp_struct['unduK']=params_K\n",
    "        if unduK_2.grad is not None:\n",
    "            unduK_2.grad.zero_()\n",
    "        undu_K=torch.cat((unduK_1,unduK_2,unduK_3))\n",
    "        inp_struct['unduK']=undu_K\n",
    "        z,power_z,s,power_s,rho,detune,field,\\\n",
    "        field_s,gainLength,resWavelength,\\\n",
    "        thet_out,eta_out,bunching,spectrum,freq,\\\n",
    "        Ns,history=sase1d_input_part.sase(inp_struct)\n",
    "        power_z[-1].backward()\n",
    "        print('gradient',unduK_2.grad)\n",
    "        print('power', power_z[-1])\n",
    "        unduK_2=(unduK_2 - lr * \\\n",
    "            unduK_2.grad).detach().requires_grad_()\n",
    "        \n",
    "        #optimizer.zero_grad()\n",
    "        #power_z[-1].backward()\n",
    "        #optimizer.step()\n",
    "        #print('gradient',unduK_2.grad)\n",
    "        \n",
    "        his_FEL_power.append(power_z[-1].detach().numpy())\n",
    "    undu_K=torch.cat((unduK_1,unduK_2,unduK_3))\n",
    "    return undu_K, his_FEL_power"
   ]
  },
  {
   "cell_type": "code",
   "execution_count": 56,
   "metadata": {
    "scrolled": false
   },
   "outputs": [
    {
     "name": "stdout",
     "output_type": "stream",
     "text": [
      "epochs: 1\n",
      "undu tensor([3.5000, 3.5000, 3.5000, 3.5000, 3.5000, 3.5000, 3.5000, 3.5000, 3.5000,\n",
      "        3.5000, 3.5000, 3.5000, 3.5000, 3.5000, 3.5000, 3.5000, 3.5000, 3.5000,\n",
      "        3.5000, 3.5000], dtype=torch.float64, grad_fn=<CatBackward>)\n",
      "gradient tensor([-1.5772e+19], dtype=torch.float64)\n",
      "power tensor(2.2119e+13, grad_fn=<SelectBackward>)\n",
      "epochs: 2\n",
      "undu tensor([3.5000, 3.5000, 3.5000, 3.5000, 3.5000, 3.5000, 3.5000, 3.5000, 3.5000,\n",
      "        3.5000, 3.5394, 3.5000, 3.5000, 3.5000, 3.5000, 3.5000, 3.5000, 3.5000,\n",
      "        3.5000, 3.5000], dtype=torch.float64, grad_fn=<CatBackward>)\n",
      "gradient tensor([6.0634e+17], dtype=torch.float64)\n",
      "power tensor(2.6484e+13, grad_fn=<SelectBackward>)\n",
      "epochs: 3\n",
      "undu tensor([3.5000, 3.5000, 3.5000, 3.5000, 3.5000, 3.5000, 3.5000, 3.5000, 3.5000,\n",
      "        3.5000, 3.5387, 3.5000, 3.5000, 3.5000, 3.5000, 3.5000, 3.5000, 3.5000,\n",
      "        3.5000, 3.5000], dtype=torch.float64, grad_fn=<CatBackward>)\n",
      "gradient tensor([-7.4969e+17], dtype=torch.float64)\n",
      "power tensor(1.8382e+13, grad_fn=<SelectBackward>)\n",
      "epochs: 4\n",
      "undu tensor([3.5000, 3.5000, 3.5000, 3.5000, 3.5000, 3.5000, 3.5000, 3.5000, 3.5000,\n",
      "        3.5000, 3.5391, 3.5000, 3.5000, 3.5000, 3.5000, 3.5000, 3.5000, 3.5000,\n",
      "        3.5000, 3.5000], dtype=torch.float64, grad_fn=<CatBackward>)\n",
      "gradient tensor([-3.1118e+18], dtype=torch.float64)\n",
      "power tensor(2.8385e+13, grad_fn=<SelectBackward>)\n",
      "epochs: 5\n",
      "undu tensor([3.5000, 3.5000, 3.5000, 3.5000, 3.5000, 3.5000, 3.5000, 3.5000, 3.5000,\n",
      "        3.5000, 3.5401, 3.5000, 3.5000, 3.5000, 3.5000, 3.5000, 3.5000, 3.5000,\n",
      "        3.5000, 3.5000], dtype=torch.float64, grad_fn=<CatBackward>)\n",
      "gradient tensor([-8.6872e+18], dtype=torch.float64)\n",
      "power tensor(2.5200e+13, grad_fn=<SelectBackward>)\n",
      "epochs: 6\n",
      "undu tensor([3.5000, 3.5000, 3.5000, 3.5000, 3.5000, 3.5000, 3.5000, 3.5000, 3.5000,\n",
      "        3.5000, 3.5415, 3.5000, 3.5000, 3.5000, 3.5000, 3.5000, 3.5000, 3.5000,\n",
      "        3.5000, 3.5000], dtype=torch.float64, grad_fn=<CatBackward>)\n",
      "gradient tensor([-2.0263e+18], dtype=torch.float64)\n",
      "power tensor(2.1605e+13, grad_fn=<SelectBackward>)\n",
      "epochs: 7\n",
      "undu tensor([3.5000, 3.5000, 3.5000, 3.5000, 3.5000, 3.5000, 3.5000, 3.5000, 3.5000,\n",
      "        3.5000, 3.5416, 3.5000, 3.5000, 3.5000, 3.5000, 3.5000, 3.5000, 3.5000,\n",
      "        3.5000, 3.5000], dtype=torch.float64, grad_fn=<CatBackward>)\n",
      "gradient tensor([1.2310e+19], dtype=torch.float64)\n",
      "power tensor(2.0863e+13, grad_fn=<SelectBackward>)\n",
      "epochs: 8\n",
      "undu tensor([3.5000, 3.5000, 3.5000, 3.5000, 3.5000, 3.5000, 3.5000, 3.5000, 3.5000,\n",
      "        3.5000, 3.5411, 3.5000, 3.5000, 3.5000, 3.5000, 3.5000, 3.5000, 3.5000,\n",
      "        3.5000, 3.5000], dtype=torch.float64, grad_fn=<CatBackward>)\n",
      "gradient tensor([3.1841e+18], dtype=torch.float64)\n",
      "power tensor(2.1635e+13, grad_fn=<SelectBackward>)\n",
      "epochs: 9\n",
      "undu tensor([3.5000, 3.5000, 3.5000, 3.5000, 3.5000, 3.5000, 3.5000, 3.5000, 3.5000,\n",
      "        3.5000, 3.5411, 3.5000, 3.5000, 3.5000, 3.5000, 3.5000, 3.5000, 3.5000,\n",
      "        3.5000, 3.5000], dtype=torch.float64, grad_fn=<CatBackward>)\n",
      "gradient tensor([-3.4083e+18], dtype=torch.float64)\n",
      "power tensor(2.1516e+13, grad_fn=<SelectBackward>)\n",
      "epochs: 10\n",
      "undu tensor([3.5000, 3.5000, 3.5000, 3.5000, 3.5000, 3.5000, 3.5000, 3.5000, 3.5000,\n",
      "        3.5000, 3.5411, 3.5000, 3.5000, 3.5000, 3.5000, 3.5000, 3.5000, 3.5000,\n",
      "        3.5000, 3.5000], dtype=torch.float64, grad_fn=<CatBackward>)\n",
      "gradient tensor([-2.2503e+18], dtype=torch.float64)\n",
      "power tensor(2.1504e+13, grad_fn=<SelectBackward>)\n",
      "epochs: 11\n",
      "undu tensor([3.5000, 3.5000, 3.5000, 3.5000, 3.5000, 3.5000, 3.5000, 3.5000, 3.5000,\n",
      "        3.5000, 3.5411, 3.5000, 3.5000, 3.5000, 3.5000, 3.5000, 3.5000, 3.5000,\n",
      "        3.5000, 3.5000], dtype=torch.float64, grad_fn=<CatBackward>)\n",
      "gradient tensor([1.3575e+19], dtype=torch.float64)\n",
      "power tensor(2.2274e+13, grad_fn=<SelectBackward>)\n",
      "epochs: 12\n",
      "undu tensor([3.5000, 3.5000, 3.5000, 3.5000, 3.5000, 3.5000, 3.5000, 3.5000, 3.5000,\n",
      "        3.5000, 3.5411, 3.5000, 3.5000, 3.5000, 3.5000, 3.5000, 3.5000, 3.5000,\n",
      "        3.5000, 3.5000], dtype=torch.float64, grad_fn=<CatBackward>)\n",
      "gradient tensor([2.9754e+18], dtype=torch.float64)\n",
      "power tensor(2.2493e+13, grad_fn=<SelectBackward>)\n",
      "epochs: 13\n",
      "undu tensor([3.5000, 3.5000, 3.5000, 3.5000, 3.5000, 3.5000, 3.5000, 3.5000, 3.5000,\n",
      "        3.5000, 3.5411, 3.5000, 3.5000, 3.5000, 3.5000, 3.5000, 3.5000, 3.5000,\n",
      "        3.5000, 3.5000], dtype=torch.float64, grad_fn=<CatBackward>)\n",
      "gradient tensor([-4.6799e+18], dtype=torch.float64)\n",
      "power tensor(2.1790e+13, grad_fn=<SelectBackward>)\n",
      "epochs: 14\n",
      "undu tensor([3.5000, 3.5000, 3.5000, 3.5000, 3.5000, 3.5000, 3.5000, 3.5000, 3.5000,\n",
      "        3.5000, 3.5411, 3.5000, 3.5000, 3.5000, 3.5000, 3.5000, 3.5000, 3.5000,\n",
      "        3.5000, 3.5000], dtype=torch.float64, grad_fn=<CatBackward>)\n",
      "gradient tensor([-1.1423e+19], dtype=torch.float64)\n",
      "power tensor(2.1936e+13, grad_fn=<SelectBackward>)\n",
      "epochs: 15\n",
      "undu tensor([3.5000, 3.5000, 3.5000, 3.5000, 3.5000, 3.5000, 3.5000, 3.5000, 3.5000,\n",
      "        3.5000, 3.5411, 3.5000, 3.5000, 3.5000, 3.5000, 3.5000, 3.5000, 3.5000,\n",
      "        3.5000, 3.5000], dtype=torch.float64, grad_fn=<CatBackward>)\n",
      "gradient tensor([9.3827e+17], dtype=torch.float64)\n",
      "power tensor(2.1840e+13, grad_fn=<SelectBackward>)\n",
      "epochs: 16\n",
      "undu tensor([3.5000, 3.5000, 3.5000, 3.5000, 3.5000, 3.5000, 3.5000, 3.5000, 3.5000,\n",
      "        3.5000, 3.5411, 3.5000, 3.5000, 3.5000, 3.5000, 3.5000, 3.5000, 3.5000,\n",
      "        3.5000, 3.5000], dtype=torch.float64, grad_fn=<CatBackward>)\n",
      "gradient tensor([-3.8632e+18], dtype=torch.float64)\n",
      "power tensor(2.2188e+13, grad_fn=<SelectBackward>)\n",
      "epochs: 17\n",
      "undu tensor([3.5000, 3.5000, 3.5000, 3.5000, 3.5000, 3.5000, 3.5000, 3.5000, 3.5000,\n",
      "        3.5000, 3.5411, 3.5000, 3.5000, 3.5000, 3.5000, 3.5000, 3.5000, 3.5000,\n",
      "        3.5000, 3.5000], dtype=torch.float64, grad_fn=<CatBackward>)\n",
      "gradient tensor([-8.5532e+17], dtype=torch.float64)\n",
      "power tensor(2.1733e+13, grad_fn=<SelectBackward>)\n",
      "epochs: 18\n",
      "undu tensor([3.5000, 3.5000, 3.5000, 3.5000, 3.5000, 3.5000, 3.5000, 3.5000, 3.5000,\n",
      "        3.5000, 3.5411, 3.5000, 3.5000, 3.5000, 3.5000, 3.5000, 3.5000, 3.5000,\n",
      "        3.5000, 3.5000], dtype=torch.float64, grad_fn=<CatBackward>)\n",
      "gradient tensor([-9.3643e+17], dtype=torch.float64)\n",
      "power tensor(2.1782e+13, grad_fn=<SelectBackward>)\n",
      "epochs: 19\n",
      "undu tensor([3.5000, 3.5000, 3.5000, 3.5000, 3.5000, 3.5000, 3.5000, 3.5000, 3.5000,\n",
      "        3.5000, 3.5411, 3.5000, 3.5000, 3.5000, 3.5000, 3.5000, 3.5000, 3.5000,\n",
      "        3.5000, 3.5000], dtype=torch.float64, grad_fn=<CatBackward>)\n",
      "gradient tensor([-4.4170e+18], dtype=torch.float64)\n",
      "power tensor(2.1721e+13, grad_fn=<SelectBackward>)\n",
      "epochs: 20\n",
      "undu tensor([3.5000, 3.5000, 3.5000, 3.5000, 3.5000, 3.5000, 3.5000, 3.5000, 3.5000,\n",
      "        3.5000, 3.5411, 3.5000, 3.5000, 3.5000, 3.5000, 3.5000, 3.5000, 3.5000,\n",
      "        3.5000, 3.5000], dtype=torch.float64, grad_fn=<CatBackward>)\n",
      "gradient tensor([-4.3950e+17], dtype=torch.float64)\n",
      "power tensor(2.1779e+13, grad_fn=<SelectBackward>)\n",
      "epochs: 21\n",
      "undu tensor([3.5000, 3.5000, 3.5000, 3.5000, 3.5000, 3.5000, 3.5000, 3.5000, 3.5000,\n",
      "        3.5000, 3.5411, 3.5000, 3.5000, 3.5000, 3.5000, 3.5000, 3.5000, 3.5000,\n",
      "        3.5000, 3.5000], dtype=torch.float64, grad_fn=<CatBackward>)\n",
      "gradient tensor([8.4166e+18], dtype=torch.float64)\n",
      "power tensor(2.1809e+13, grad_fn=<SelectBackward>)\n",
      "epochs: 22\n",
      "undu tensor([3.5000, 3.5000, 3.5000, 3.5000, 3.5000, 3.5000, 3.5000, 3.5000, 3.5000,\n",
      "        3.5000, 3.5411, 3.5000, 3.5000, 3.5000, 3.5000, 3.5000, 3.5000, 3.5000,\n",
      "        3.5000, 3.5000], dtype=torch.float64, grad_fn=<CatBackward>)\n",
      "gradient tensor([2.9054e+18], dtype=torch.float64)\n",
      "power tensor(2.1697e+13, grad_fn=<SelectBackward>)\n",
      "epochs: 23\n",
      "undu tensor([3.5000, 3.5000, 3.5000, 3.5000, 3.5000, 3.5000, 3.5000, 3.5000, 3.5000,\n",
      "        3.5000, 3.5411, 3.5000, 3.5000, 3.5000, 3.5000, 3.5000, 3.5000, 3.5000,\n",
      "        3.5000, 3.5000], dtype=torch.float64, grad_fn=<CatBackward>)\n",
      "gradient tensor([2.9054e+18], dtype=torch.float64)\n",
      "power tensor(2.1697e+13, grad_fn=<SelectBackward>)\n",
      "epochs: 24\n",
      "undu tensor([3.5000, 3.5000, 3.5000, 3.5000, 3.5000, 3.5000, 3.5000, 3.5000, 3.5000,\n",
      "        3.5000, 3.5411, 3.5000, 3.5000, 3.5000, 3.5000, 3.5000, 3.5000, 3.5000,\n",
      "        3.5000, 3.5000], dtype=torch.float64, grad_fn=<CatBackward>)\n"
     ]
    },
    {
     "name": "stdout",
     "output_type": "stream",
     "text": [
      "gradient tensor([3.8206e+18], dtype=torch.float64)\n",
      "power tensor(2.1668e+13, grad_fn=<SelectBackward>)\n",
      "epochs: 25\n",
      "undu tensor([3.5000, 3.5000, 3.5000, 3.5000, 3.5000, 3.5000, 3.5000, 3.5000, 3.5000,\n",
      "        3.5000, 3.5411, 3.5000, 3.5000, 3.5000, 3.5000, 3.5000, 3.5000, 3.5000,\n",
      "        3.5000, 3.5000], dtype=torch.float64, grad_fn=<CatBackward>)\n",
      "gradient tensor([3.8206e+18], dtype=torch.float64)\n",
      "power tensor(2.1668e+13, grad_fn=<SelectBackward>)\n",
      "epochs: 26\n",
      "undu tensor([3.5000, 3.5000, 3.5000, 3.5000, 3.5000, 3.5000, 3.5000, 3.5000, 3.5000,\n",
      "        3.5000, 3.5411, 3.5000, 3.5000, 3.5000, 3.5000, 3.5000, 3.5000, 3.5000,\n",
      "        3.5000, 3.5000], dtype=torch.float64, grad_fn=<CatBackward>)\n",
      "gradient tensor([3.8206e+18], dtype=torch.float64)\n",
      "power tensor(2.1668e+13, grad_fn=<SelectBackward>)\n",
      "epochs: 27\n",
      "undu tensor([3.5000, 3.5000, 3.5000, 3.5000, 3.5000, 3.5000, 3.5000, 3.5000, 3.5000,\n",
      "        3.5000, 3.5411, 3.5000, 3.5000, 3.5000, 3.5000, 3.5000, 3.5000, 3.5000,\n",
      "        3.5000, 3.5000], dtype=torch.float64, grad_fn=<CatBackward>)\n",
      "gradient tensor([3.8206e+18], dtype=torch.float64)\n",
      "power tensor(2.1668e+13, grad_fn=<SelectBackward>)\n",
      "epochs: 28\n",
      "undu tensor([3.5000, 3.5000, 3.5000, 3.5000, 3.5000, 3.5000, 3.5000, 3.5000, 3.5000,\n",
      "        3.5000, 3.5411, 3.5000, 3.5000, 3.5000, 3.5000, 3.5000, 3.5000, 3.5000,\n",
      "        3.5000, 3.5000], dtype=torch.float64, grad_fn=<CatBackward>)\n",
      "gradient tensor([3.8206e+18], dtype=torch.float64)\n",
      "power tensor(2.1668e+13, grad_fn=<SelectBackward>)\n",
      "epochs: 29\n",
      "undu tensor([3.5000, 3.5000, 3.5000, 3.5000, 3.5000, 3.5000, 3.5000, 3.5000, 3.5000,\n",
      "        3.5000, 3.5411, 3.5000, 3.5000, 3.5000, 3.5000, 3.5000, 3.5000, 3.5000,\n",
      "        3.5000, 3.5000], dtype=torch.float64, grad_fn=<CatBackward>)\n",
      "gradient tensor([3.8206e+18], dtype=torch.float64)\n",
      "power tensor(2.1668e+13, grad_fn=<SelectBackward>)\n",
      "epochs: 30\n",
      "undu tensor([3.5000, 3.5000, 3.5000, 3.5000, 3.5000, 3.5000, 3.5000, 3.5000, 3.5000,\n",
      "        3.5000, 3.5411, 3.5000, 3.5000, 3.5000, 3.5000, 3.5000, 3.5000, 3.5000,\n",
      "        3.5000, 3.5000], dtype=torch.float64, grad_fn=<CatBackward>)\n",
      "gradient tensor([3.8206e+18], dtype=torch.float64)\n",
      "power tensor(2.1668e+13, grad_fn=<SelectBackward>)\n",
      "epochs: 31\n",
      "undu tensor([3.5000, 3.5000, 3.5000, 3.5000, 3.5000, 3.5000, 3.5000, 3.5000, 3.5000,\n",
      "        3.5000, 3.5411, 3.5000, 3.5000, 3.5000, 3.5000, 3.5000, 3.5000, 3.5000,\n",
      "        3.5000, 3.5000], dtype=torch.float64, grad_fn=<CatBackward>)\n",
      "gradient tensor([3.8206e+18], dtype=torch.float64)\n",
      "power tensor(2.1668e+13, grad_fn=<SelectBackward>)\n",
      "epochs: 32\n",
      "undu tensor([3.5000, 3.5000, 3.5000, 3.5000, 3.5000, 3.5000, 3.5000, 3.5000, 3.5000,\n",
      "        3.5000, 3.5411, 3.5000, 3.5000, 3.5000, 3.5000, 3.5000, 3.5000, 3.5000,\n",
      "        3.5000, 3.5000], dtype=torch.float64, grad_fn=<CatBackward>)\n",
      "gradient tensor([3.8206e+18], dtype=torch.float64)\n",
      "power tensor(2.1668e+13, grad_fn=<SelectBackward>)\n",
      "epochs: 33\n",
      "undu tensor([3.5000, 3.5000, 3.5000, 3.5000, 3.5000, 3.5000, 3.5000, 3.5000, 3.5000,\n",
      "        3.5000, 3.5411, 3.5000, 3.5000, 3.5000, 3.5000, 3.5000, 3.5000, 3.5000,\n",
      "        3.5000, 3.5000], dtype=torch.float64, grad_fn=<CatBackward>)\n",
      "gradient tensor([3.8206e+18], dtype=torch.float64)\n",
      "power tensor(2.1668e+13, grad_fn=<SelectBackward>)\n",
      "epochs: 34\n",
      "undu tensor([3.5000, 3.5000, 3.5000, 3.5000, 3.5000, 3.5000, 3.5000, 3.5000, 3.5000,\n",
      "        3.5000, 3.5411, 3.5000, 3.5000, 3.5000, 3.5000, 3.5000, 3.5000, 3.5000,\n",
      "        3.5000, 3.5000], dtype=torch.float64, grad_fn=<CatBackward>)\n"
     ]
    },
    {
     "ename": "KeyboardInterrupt",
     "evalue": "",
     "output_type": "error",
     "traceback": [
      "\u001b[0;31m---------------------------------------------------------------------------\u001b[0m",
      "\u001b[0;31mKeyboardInterrupt\u001b[0m                         Traceback (most recent call last)",
      "\u001b[0;32m<ipython-input-56-d4b8d449da2f>\u001b[0m in \u001b[0;36m<module>\u001b[0;34m\u001b[0m\n\u001b[1;32m      6\u001b[0m     \u001b[0munduK_2\u001b[0m \u001b[0;34m=\u001b[0m \u001b[0munduK_2\u001b[0m\u001b[0;34m,\u001b[0m\u001b[0;34m\u001b[0m\u001b[0;34m\u001b[0m\u001b[0m\n\u001b[1;32m      7\u001b[0m     \u001b[0munduK_3\u001b[0m \u001b[0;34m=\u001b[0m \u001b[0munduK_3\u001b[0m\u001b[0;34m,\u001b[0m\u001b[0;34m\u001b[0m\u001b[0;34m\u001b[0m\u001b[0m\n\u001b[0;32m----> 8\u001b[0;31m     his_FEL_power = his_FEL_power)\n\u001b[0m",
      "\u001b[0;32m<ipython-input-55-2f9462b2473b>\u001b[0m in \u001b[0;36mtraining_loop\u001b[0;34m(n_epochs, lr, unduK_1, unduK_2, unduK_3, his_FEL_power)\u001b[0m\n\u001b[1;32m     16\u001b[0m         \u001b[0mthet_out\u001b[0m\u001b[0;34m,\u001b[0m\u001b[0meta_out\u001b[0m\u001b[0;34m,\u001b[0m\u001b[0mbunching\u001b[0m\u001b[0;34m,\u001b[0m\u001b[0mspectrum\u001b[0m\u001b[0;34m,\u001b[0m\u001b[0mfreq\u001b[0m\u001b[0;34m,\u001b[0m\u001b[0;31m\\\u001b[0m\u001b[0;34m\u001b[0m\u001b[0;34m\u001b[0m\u001b[0m\n\u001b[1;32m     17\u001b[0m         \u001b[0mNs\u001b[0m\u001b[0;34m,\u001b[0m\u001b[0mhistory\u001b[0m\u001b[0;34m=\u001b[0m\u001b[0msase1d_input_part\u001b[0m\u001b[0;34m.\u001b[0m\u001b[0msase\u001b[0m\u001b[0;34m(\u001b[0m\u001b[0minp_struct\u001b[0m\u001b[0;34m)\u001b[0m\u001b[0;34m\u001b[0m\u001b[0;34m\u001b[0m\u001b[0m\n\u001b[0;32m---> 18\u001b[0;31m         \u001b[0mpower_z\u001b[0m\u001b[0;34m[\u001b[0m\u001b[0;34m-\u001b[0m\u001b[0;36m1\u001b[0m\u001b[0;34m]\u001b[0m\u001b[0;34m.\u001b[0m\u001b[0mbackward\u001b[0m\u001b[0;34m(\u001b[0m\u001b[0;34m)\u001b[0m\u001b[0;34m\u001b[0m\u001b[0;34m\u001b[0m\u001b[0m\n\u001b[0m\u001b[1;32m     19\u001b[0m         \u001b[0mprint\u001b[0m\u001b[0;34m(\u001b[0m\u001b[0;34m'gradient'\u001b[0m\u001b[0;34m,\u001b[0m\u001b[0munduK_2\u001b[0m\u001b[0;34m.\u001b[0m\u001b[0mgrad\u001b[0m\u001b[0;34m)\u001b[0m\u001b[0;34m\u001b[0m\u001b[0;34m\u001b[0m\u001b[0m\n\u001b[1;32m     20\u001b[0m         \u001b[0mprint\u001b[0m\u001b[0;34m(\u001b[0m\u001b[0;34m'power'\u001b[0m\u001b[0;34m,\u001b[0m \u001b[0mpower_z\u001b[0m\u001b[0;34m[\u001b[0m\u001b[0;34m-\u001b[0m\u001b[0;36m1\u001b[0m\u001b[0;34m]\u001b[0m\u001b[0;34m)\u001b[0m\u001b[0;34m\u001b[0m\u001b[0;34m\u001b[0m\u001b[0m\n",
      "\u001b[0;32m~/miniconda3/envs/gnn/lib/python3.7/site-packages/torch/tensor.py\u001b[0m in \u001b[0;36mbackward\u001b[0;34m(self, gradient, retain_graph, create_graph)\u001b[0m\n\u001b[1;32m    164\u001b[0m                 \u001b[0mproducts\u001b[0m\u001b[0;34m.\u001b[0m \u001b[0mDefaults\u001b[0m \u001b[0mto\u001b[0m\u001b[0;31m \u001b[0m\u001b[0;31m`\u001b[0m\u001b[0;31m`\u001b[0m\u001b[0;32mFalse\u001b[0m\u001b[0;31m`\u001b[0m\u001b[0;31m`\u001b[0m\u001b[0;34m.\u001b[0m\u001b[0;34m\u001b[0m\u001b[0;34m\u001b[0m\u001b[0m\n\u001b[1;32m    165\u001b[0m         \"\"\"\n\u001b[0;32m--> 166\u001b[0;31m         \u001b[0mtorch\u001b[0m\u001b[0;34m.\u001b[0m\u001b[0mautograd\u001b[0m\u001b[0;34m.\u001b[0m\u001b[0mbackward\u001b[0m\u001b[0;34m(\u001b[0m\u001b[0mself\u001b[0m\u001b[0;34m,\u001b[0m \u001b[0mgradient\u001b[0m\u001b[0;34m,\u001b[0m \u001b[0mretain_graph\u001b[0m\u001b[0;34m,\u001b[0m \u001b[0mcreate_graph\u001b[0m\u001b[0;34m)\u001b[0m\u001b[0;34m\u001b[0m\u001b[0;34m\u001b[0m\u001b[0m\n\u001b[0m\u001b[1;32m    167\u001b[0m \u001b[0;34m\u001b[0m\u001b[0m\n\u001b[1;32m    168\u001b[0m     \u001b[0;32mdef\u001b[0m \u001b[0mregister_hook\u001b[0m\u001b[0;34m(\u001b[0m\u001b[0mself\u001b[0m\u001b[0;34m,\u001b[0m \u001b[0mhook\u001b[0m\u001b[0;34m)\u001b[0m\u001b[0;34m:\u001b[0m\u001b[0;34m\u001b[0m\u001b[0;34m\u001b[0m\u001b[0m\n",
      "\u001b[0;32m~/miniconda3/envs/gnn/lib/python3.7/site-packages/torch/autograd/__init__.py\u001b[0m in \u001b[0;36mbackward\u001b[0;34m(tensors, grad_tensors, retain_graph, create_graph, grad_variables)\u001b[0m\n\u001b[1;32m     97\u001b[0m     Variable._execution_engine.run_backward(\n\u001b[1;32m     98\u001b[0m         \u001b[0mtensors\u001b[0m\u001b[0;34m,\u001b[0m \u001b[0mgrad_tensors\u001b[0m\u001b[0;34m,\u001b[0m \u001b[0mretain_graph\u001b[0m\u001b[0;34m,\u001b[0m \u001b[0mcreate_graph\u001b[0m\u001b[0;34m,\u001b[0m\u001b[0;34m\u001b[0m\u001b[0;34m\u001b[0m\u001b[0m\n\u001b[0;32m---> 99\u001b[0;31m         allow_unreachable=True)  # allow_unreachable flag\n\u001b[0m\u001b[1;32m    100\u001b[0m \u001b[0;34m\u001b[0m\u001b[0m\n\u001b[1;32m    101\u001b[0m \u001b[0;34m\u001b[0m\u001b[0m\n",
      "\u001b[0;31mKeyboardInterrupt\u001b[0m: "
     ]
    },
    {
     "data": {
      "image/png": "[encoded data removed]",
      "text/plain": [
       "<Figure size 432x288 with 1 Axes>"
      ]
     },
     "metadata": {
      "needs_background": "light"
     },
     "output_type": "display_data"
    }
   ],
   "source": [
    "undu_K, his_FEL_power= training_loop(\n",
    "    n_epochs = n_epochs,\n",
    "    lr       = lr,\n",
    "    #optimizer = optimizer,\n",
    "    unduK_1 = unduK_1,\n",
    "    unduK_2 = unduK_2,\n",
    "    unduK_3 = unduK_3,\n",
    "    his_FEL_power = his_FEL_power)"
   ]
  },
  {
   "cell_type": "code",
   "execution_count": 57,
   "metadata": {},
   "outputs": [
    {
     "data": {
      "text/plain": [
       "Text(0.5, 1.0, 'output FEL power vs. epochs')"
      ]
     },
     "execution_count": 57,
     "metadata": {},
     "output_type": "execute_result"
    },
    {
     "data": {
      "image/png": "[encoded data removed]",
      "text/plain": [
       "<Figure size 432x288 with 1 Axes>"
      ]
     },
     "metadata": {
      "needs_background": "light"
     },
     "output_type": "display_data"
    },
    {
     "data": {
      "image/png": "[encoded data removed]",
      "text/plain": [
       "<Figure size 432x288 with 1 Axes>"
      ]
     },
     "metadata": {
      "needs_background": "light"
     },
     "output_type": "display_data"
    }
   ],
   "source": [
    "plt.figure()\n",
    "plt.plot(undu_K.detach().numpy())\n",
    "plt.title('final taper value')\n",
    "plt.figure()\n",
    "plt.plot(his_FEL_power,'.-')\n",
    "plt.title('output FEL power vs. epochs')"
   ]
  },
  {
   "cell_type": "code",
   "execution_count": null,
   "metadata": {},
   "outputs": [],
   "source": []
  },
  {
   "cell_type": "code",
   "execution_count": null,
   "metadata": {},
   "outputs": [],
   "source": []
  },
  {
   "cell_type": "markdown",
   "metadata": {},
   "source": [
    "Method 2: fit to quadratic taper"
   ]
  },
  {
   "cell_type": "code",
   "execution_count": 19,
   "metadata": {},
   "outputs": [
    {
     "name": "stdout",
     "output_type": "stream",
     "text": [
      "The autoreload extension is already loaded. To reload it, use:\n",
      "  %reload_ext autoreload\n"
     ]
    },
    {
     "data": {
      "text/plain": [
       "[<matplotlib.lines.Line2D at 0x82161b990>]"
      ]
     },
     "execution_count": 19,
     "metadata": {},
     "output_type": "execute_result"
    },
    {
     "data": {
      "image/png": "[encoded data removed]",
      "text/plain": [
       "<Figure size 432x288 with 1 Axes>"
      ]
     },
     "metadata": {
      "needs_background": "light"
     },
     "output_type": "display_data"
    }
   ],
   "source": [
    "%load_ext autoreload\n",
    "%autoreload\n",
    "\n",
    "\n",
    "#params_K=torch.tensor([2.3,-0.001],requires_grad=True)\n",
    "const_K=torch.tensor(2.3,requires_grad=True)\n",
    "param_K=torch.tensor(-0.001+1e-7,requires_grad=True)\n",
    "lr_const = 1e-6 #1e-17\n",
    "lr_param = 1e-8#1e-21\n",
    "#optimizer = optim.SGD([params_K], lr=learning_rate)\n",
    "n_epochs = 100\n",
    "his_FEL_power=[]\n",
    "unduK_1=const_K*torch.ones(int(z_steps/2))\n",
    "unduK_2=const_K+param_K*torch.arange(z_steps-int(z_steps/2))**2\n",
    "undu_K=torch.cat((unduK_1,unduK_2))\n",
    "plt.plot(undu_K.detach().numpy())"
   ]
  },
  {
   "cell_type": "code",
   "execution_count": null,
   "metadata": {},
   "outputs": [],
   "source": []
  },
  {
   "cell_type": "code",
   "execution_count": 20,
   "metadata": {},
   "outputs": [],
   "source": [
    "def training_loop(n_epochs, const_K, param_K, lr_const, lr_param, z_steps, his_FEL_power):\n",
    "    for epoch in range(1, n_epochs + 1):\n",
    "        print('epochs:',epoch)\n",
    "        '''\n",
    "        Use sase function in sase1d.py to run 1D FEL\n",
    "        '''\n",
    "        if const_K.grad is not None:\n",
    "            const_K.grad.zero_()\n",
    "        if param_K.grad is not None:\n",
    "            param_K.grad.zero_()\n",
    "        #sase1d_input_part.sase().zero_grad()\n",
    "        #with torch.autograd.set_detect_anomaly(True):\n",
    "        #inp_struct['unduK']=params_K\n",
    "        #if unduK_2.grad is not None:\n",
    "        #    unduK_2.grad.zero_()\n",
    "        unduK_1=const_K*torch.ones(int(z_steps/2))\n",
    "        unduK_2=const_K+param_K*torch.arange(z_steps-int(z_steps/2))**2\n",
    "        undu_K=torch.cat((unduK_1,unduK_2))\n",
    "        inp_struct['unduK']=undu_K\n",
    "        z,power_z,s,power_s,rho,detune,field,\\\n",
    "        field_s,gainLength,resWavelength,\\\n",
    "        thet_out,eta_out,bunching,spectrum,freq,\\\n",
    "        Ns,history=sase1d_input_part.sase(inp_struct)\n",
    "        \n",
    "        \n",
    "        #optimizer = optim.SGD([params_K], lr=lr)\n",
    "        #optimizer.zero_grad()\n",
    "        if epoch==1:\n",
    "            (-power_z[-1]/1e13).backward(retain_graph=True)\n",
    "        else:\n",
    "            (-power_z[-1]/1e13).backward()\n",
    "        print('gradient',const_K.grad,param_K.grad)\n",
    "        const_K=(const_K + lr_const * const_K.grad).detach().requires_grad_()\n",
    "        param_K=(param_K + lr_param * param_K.grad).detach().requires_grad_()\n",
    "        #optimizer.step()\n",
    "        \n",
    "        print('power',power_z[-1])\n",
    "        \n",
    "        his_FEL_power.append(power_z[-1].detach().numpy())\n",
    "    unduK_1=const_K*torch.ones(int(z_steps/2))\n",
    "    unduK_2=const_K+param_K*torch.arange(z_steps-int(z_steps/2))**2\n",
    "    undu_K=torch.cat((unduK_1,unduK_2))\n",
    "    return undu_K, his_FEL_power"
   ]
  },
  {
   "cell_type": "code",
   "execution_count": 21,
   "metadata": {
    "scrolled": false
   },
   "outputs": [
    {
     "name": "stdout",
     "output_type": "stream",
     "text": [
      "epochs: 1\n",
      "undu tensor([2.3000, 2.3000, 2.3000, 2.3000, 2.3000, 2.3000, 2.3000, 2.3000, 2.3000,\n",
      "        2.3000, 2.3000, 2.2990, 2.2960, 2.2910, 2.2840, 2.2750, 2.2640, 2.2510,\n",
      "        2.2360, 2.2190], grad_fn=<CatBackward>)\n",
      "gradient tensor(902.6895) tensor(151356.0312)\n",
      "power tensor(3.5847e+13, grad_fn=<SelectBackward>)\n",
      "epochs: 2\n",
      "undu tensor([2.3009, 2.3009, 2.3009, 2.3009, 2.3009, 2.3009, 2.3009, 2.3009, 2.3009,\n",
      "        2.3009, 2.3009, 2.3014, 2.3030, 2.3055, 2.3091, 2.3137, 2.3194, 2.3261,\n",
      "        2.3338, 2.3425], grad_fn=<CatBackward>)\n",
      "gradient tensor(22.5313) tensor(6775.4424)\n",
      "power tensor(7.3745e+12, grad_fn=<SelectBackward>)\n",
      "epochs: 3\n",
      "undu tensor([2.3009, 2.3009, 2.3009, 2.3009, 2.3009, 2.3009, 2.3009, 2.3009, 2.3009,\n",
      "        2.3009, 2.3009, 2.3015, 2.3033, 2.3062, 2.3102, 2.3155, 2.3219, 2.3294,\n",
      "        2.3381, 2.3480], grad_fn=<CatBackward>)\n",
      "gradient tensor(16.0911) tensor(119.6851)\n",
      "power tensor(9.7652e+12, grad_fn=<SelectBackward>)\n",
      "epochs: 4\n",
      "undu tensor([2.3009, 2.3009, 2.3009, 2.3009, 2.3009, 2.3009, 2.3009, 2.3009, 2.3009,\n",
      "        2.3009, 2.3009, 2.3015, 2.3033, 2.3062, 2.3103, 2.3155, 2.3219, 2.3295,\n",
      "        2.3382, 2.3481], grad_fn=<CatBackward>)\n",
      "gradient tensor(24.1627) tensor(15386.4668)\n",
      "power tensor(9.7264e+12, grad_fn=<SelectBackward>)\n",
      "epochs: 5\n",
      "undu tensor([2.3010, 2.3010, 2.3010, 2.3010, 2.3010, 2.3010, 2.3010, 2.3010, 2.3010,\n",
      "        2.3010, 2.3010, 2.3017, 2.3039, 2.3076, 2.3127, 2.3194, 2.3275, 2.3371,\n",
      "        2.3481, 2.3606], grad_fn=<CatBackward>)\n",
      "gradient tensor(-33.3688) tensor(-7098.0889)\n",
      "power tensor(1.1575e+13, grad_fn=<SelectBackward>)\n",
      "epochs: 6\n",
      "undu tensor([2.3009, 2.3009, 2.3009, 2.3009, 2.3009, 2.3009, 2.3009, 2.3009, 2.3009,\n",
      "        2.3009, 2.3009, 2.3016, 2.3036, 2.3069, 2.3116, 2.3176, 2.3249, 2.3335,\n",
      "        2.3435, 2.3548], grad_fn=<CatBackward>)\n",
      "gradient tensor(-9.9604) tensor(-1543.8503)\n",
      "power tensor(1.3937e+13, grad_fn=<SelectBackward>)\n",
      "epochs: 7\n",
      "undu tensor([2.3009, 2.3009, 2.3009, 2.3009, 2.3009, 2.3009, 2.3009, 2.3009, 2.3009,\n",
      "        2.3009, 2.3009, 2.3016, 2.3035, 2.3068, 2.3113, 2.3172, 2.3243, 2.3328,\n",
      "        2.3425, 2.3536], grad_fn=<CatBackward>)\n",
      "gradient tensor(36.1856) tensor(-7464.0923)\n",
      "power tensor(1.3774e+13, grad_fn=<SelectBackward>)\n",
      "epochs: 8\n",
      "undu tensor([2.3010, 2.3010, 2.3010, 2.3010, 2.3010, 2.3010, 2.3010, 2.3010, 2.3010,\n",
      "        2.3010, 2.3010, 2.3015, 2.3033, 2.3061, 2.3102, 2.3153, 2.3217, 2.3292,\n",
      "        2.3378, 2.3476], grad_fn=<CatBackward>)\n",
      "gradient tensor(2.2771) tensor(2355.4192)\n",
      "power tensor(1.0097e+13, grad_fn=<SelectBackward>)\n",
      "epochs: 9\n",
      "undu tensor([2.3010, 2.3010, 2.3010, 2.3010, 2.3010, 2.3010, 2.3010, 2.3010, 2.3010,\n",
      "        2.3010, 2.3010, 2.3016, 2.3034, 2.3064, 2.3105, 2.3159, 2.3225, 2.3303,\n",
      "        2.3393, 2.3495], grad_fn=<CatBackward>)\n",
      "gradient tensor(-38.3710) tensor(-17098.6562)\n",
      "power tensor(1.0948e+13, grad_fn=<SelectBackward>)\n",
      "epochs: 10\n",
      "undu tensor([2.3009, 2.3009, 2.3009, 2.3009, 2.3009, 2.3009, 2.3009, 2.3009, 2.3009,\n",
      "        2.3009, 2.3009, 2.3014, 2.3026, 2.3048, 2.3078, 2.3116, 2.3163, 2.3219,\n",
      "        2.3283, 2.3356], grad_fn=<CatBackward>)\n",
      "gradient tensor(29.8425) tensor(6424.1025)\n",
      "power tensor(1.0714e+13, grad_fn=<SelectBackward>)\n",
      "epochs: 11\n",
      "undu tensor([2.3010, 2.3010, 2.3010, 2.3010, 2.3010, 2.3010, 2.3010, 2.3010, 2.3010,\n",
      "        2.3010, 2.3010, 2.3014, 2.3029, 2.3054, 2.3088, 2.3133, 2.3187, 2.3251,\n",
      "        2.3325, 2.3408], grad_fn=<CatBackward>)\n",
      "gradient tensor(-34.4453) tensor(-3005.6777)\n",
      "power tensor(8.0325e+12, grad_fn=<SelectBackward>)\n",
      "epochs: 12\n",
      "undu tensor([2.3009, 2.3009, 2.3009, 2.3009, 2.3009, 2.3009, 2.3009, 2.3009, 2.3009,\n",
      "        2.3009, 2.3009, 2.3014, 2.3028, 2.3051, 2.3083, 2.3125, 2.3176, 2.3236,\n",
      "        2.3305, 2.3384], grad_fn=<CatBackward>)\n",
      "gradient tensor(12.6708) tensor(-4541.4912)\n",
      "power tensor(9.6824e+12, grad_fn=<SelectBackward>)\n",
      "epochs: 13\n",
      "undu tensor([2.3009, 2.3009, 2.3009, 2.3009, 2.3009, 2.3009, 2.3009, 2.3009, 2.3009,\n",
      "        2.3009, 2.3009, 2.3013, 2.3026, 2.3047, 2.3076, 2.3113, 2.3159, 2.3214,\n",
      "        2.3276, 2.3347], grad_fn=<CatBackward>)\n",
      "gradient tensor(-4.1611) tensor(-11071.4658)\n",
      "power tensor(1.0439e+13, grad_fn=<SelectBackward>)\n",
      "epochs: 14\n",
      "undu tensor([2.3009, 2.3009, 2.3009, 2.3009, 2.3009, 2.3009, 2.3009, 2.3009, 2.3009,\n",
      "        2.3009, 2.3009, 2.3012, 2.3022, 2.3037, 2.3058, 2.3086, 2.3119, 2.3159,\n",
      "        2.3205, 2.3257], grad_fn=<CatBackward>)\n",
      "gradient tensor(7.6587) tensor(1567.5963)\n",
      "power tensor(8.8019e+12, grad_fn=<SelectBackward>)\n",
      "epochs: 15\n",
      "undu tensor([2.3009, 2.3009, 2.3009, 2.3009, 2.3009, 2.3009, 2.3009, 2.3009, 2.3009,\n",
      "        2.3009, 2.3009, 2.3013, 2.3022, 2.3038, 2.3061, 2.3090, 2.3125, 2.3167,\n",
      "        2.3215, 2.3270], grad_fn=<CatBackward>)\n",
      "gradient tensor(26.7180) tensor(20170.3125)\n",
      "power tensor(8.0653e+12, grad_fn=<SelectBackward>)\n",
      "epochs: 16\n",
      "undu tensor([2.3010, 2.3010, 2.3010, 2.3010, 2.3010, 2.3010, 2.3010, 2.3010, 2.3010,\n",
      "        2.3010, 2.3010, 2.3015, 2.3031, 2.3057, 2.3093, 2.3140, 2.3198, 2.3266,\n",
      "        2.3345, 2.3434], grad_fn=<CatBackward>)\n"
     ]
    },
    {
     "ename": "KeyboardInterrupt",
     "evalue": "",
     "output_type": "error",
     "traceback": [
      "\u001b[0;31m---------------------------------------------------------------------------\u001b[0m",
      "\u001b[0;31mKeyboardInterrupt\u001b[0m                         Traceback (most recent call last)",
      "\u001b[0;32m<ipython-input-21-e25d344c28e1>\u001b[0m in \u001b[0;36m<module>\u001b[0;34m\u001b[0m\n\u001b[1;32m      6\u001b[0m     \u001b[0mlr_param\u001b[0m \u001b[0;34m=\u001b[0m \u001b[0mlr_param\u001b[0m\u001b[0;34m,\u001b[0m\u001b[0;34m\u001b[0m\u001b[0;34m\u001b[0m\u001b[0m\n\u001b[1;32m      7\u001b[0m     \u001b[0mz_steps\u001b[0m \u001b[0;34m=\u001b[0m \u001b[0mz_steps\u001b[0m\u001b[0;34m,\u001b[0m\u001b[0;34m\u001b[0m\u001b[0;34m\u001b[0m\u001b[0m\n\u001b[0;32m----> 8\u001b[0;31m     his_FEL_power = his_FEL_power)\n\u001b[0m",
      "\u001b[0;32m<ipython-input-20-a0997430ddc2>\u001b[0m in \u001b[0;36mtraining_loop\u001b[0;34m(n_epochs, const_K, param_K, lr_const, lr_param, z_steps, his_FEL_power)\u001b[0m\n\u001b[1;32m     29\u001b[0m             \u001b[0;34m(\u001b[0m\u001b[0;34m-\u001b[0m\u001b[0mpower_z\u001b[0m\u001b[0;34m[\u001b[0m\u001b[0;34m-\u001b[0m\u001b[0;36m1\u001b[0m\u001b[0;34m]\u001b[0m\u001b[0;34m/\u001b[0m\u001b[0;36m1e13\u001b[0m\u001b[0;34m)\u001b[0m\u001b[0;34m.\u001b[0m\u001b[0mbackward\u001b[0m\u001b[0;34m(\u001b[0m\u001b[0mretain_graph\u001b[0m\u001b[0;34m=\u001b[0m\u001b[0;32mTrue\u001b[0m\u001b[0;34m)\u001b[0m\u001b[0;34m\u001b[0m\u001b[0;34m\u001b[0m\u001b[0m\n\u001b[1;32m     30\u001b[0m         \u001b[0;32melse\u001b[0m\u001b[0;34m:\u001b[0m\u001b[0;34m\u001b[0m\u001b[0;34m\u001b[0m\u001b[0m\n\u001b[0;32m---> 31\u001b[0;31m             \u001b[0;34m(\u001b[0m\u001b[0;34m-\u001b[0m\u001b[0mpower_z\u001b[0m\u001b[0;34m[\u001b[0m\u001b[0;34m-\u001b[0m\u001b[0;36m1\u001b[0m\u001b[0;34m]\u001b[0m\u001b[0;34m/\u001b[0m\u001b[0;36m1e13\u001b[0m\u001b[0;34m)\u001b[0m\u001b[0;34m.\u001b[0m\u001b[0mbackward\u001b[0m\u001b[0;34m(\u001b[0m\u001b[0;34m)\u001b[0m\u001b[0;34m\u001b[0m\u001b[0;34m\u001b[0m\u001b[0m\n\u001b[0m\u001b[1;32m     32\u001b[0m         \u001b[0mprint\u001b[0m\u001b[0;34m(\u001b[0m\u001b[0;34m'gradient'\u001b[0m\u001b[0;34m,\u001b[0m\u001b[0mconst_K\u001b[0m\u001b[0;34m.\u001b[0m\u001b[0mgrad\u001b[0m\u001b[0;34m,\u001b[0m\u001b[0mparam_K\u001b[0m\u001b[0;34m.\u001b[0m\u001b[0mgrad\u001b[0m\u001b[0;34m)\u001b[0m\u001b[0;34m\u001b[0m\u001b[0;34m\u001b[0m\u001b[0m\n\u001b[1;32m     33\u001b[0m         \u001b[0mconst_K\u001b[0m\u001b[0;34m=\u001b[0m\u001b[0;34m(\u001b[0m\u001b[0mconst_K\u001b[0m \u001b[0;34m+\u001b[0m \u001b[0mlr_const\u001b[0m \u001b[0;34m*\u001b[0m \u001b[0mconst_K\u001b[0m\u001b[0;34m.\u001b[0m\u001b[0mgrad\u001b[0m\u001b[0;34m)\u001b[0m\u001b[0;34m.\u001b[0m\u001b[0mdetach\u001b[0m\u001b[0;34m(\u001b[0m\u001b[0;34m)\u001b[0m\u001b[0;34m.\u001b[0m\u001b[0mrequires_grad_\u001b[0m\u001b[0;34m(\u001b[0m\u001b[0;34m)\u001b[0m\u001b[0;34m\u001b[0m\u001b[0;34m\u001b[0m\u001b[0m\n",
      "\u001b[0;32m~/miniconda3/envs/gnn/lib/python3.7/site-packages/torch/tensor.py\u001b[0m in \u001b[0;36mbackward\u001b[0;34m(self, gradient, retain_graph, create_graph)\u001b[0m\n\u001b[1;32m    164\u001b[0m                 \u001b[0mproducts\u001b[0m\u001b[0;34m.\u001b[0m \u001b[0mDefaults\u001b[0m \u001b[0mto\u001b[0m\u001b[0;31m \u001b[0m\u001b[0;31m`\u001b[0m\u001b[0;31m`\u001b[0m\u001b[0;32mFalse\u001b[0m\u001b[0;31m`\u001b[0m\u001b[0;31m`\u001b[0m\u001b[0;34m.\u001b[0m\u001b[0;34m\u001b[0m\u001b[0;34m\u001b[0m\u001b[0m\n\u001b[1;32m    165\u001b[0m         \"\"\"\n\u001b[0;32m--> 166\u001b[0;31m         \u001b[0mtorch\u001b[0m\u001b[0;34m.\u001b[0m\u001b[0mautograd\u001b[0m\u001b[0;34m.\u001b[0m\u001b[0mbackward\u001b[0m\u001b[0;34m(\u001b[0m\u001b[0mself\u001b[0m\u001b[0;34m,\u001b[0m \u001b[0mgradient\u001b[0m\u001b[0;34m,\u001b[0m \u001b[0mretain_graph\u001b[0m\u001b[0;34m,\u001b[0m \u001b[0mcreate_graph\u001b[0m\u001b[0;34m)\u001b[0m\u001b[0;34m\u001b[0m\u001b[0;34m\u001b[0m\u001b[0m\n\u001b[0m\u001b[1;32m    167\u001b[0m \u001b[0;34m\u001b[0m\u001b[0m\n\u001b[1;32m    168\u001b[0m     \u001b[0;32mdef\u001b[0m \u001b[0mregister_hook\u001b[0m\u001b[0;34m(\u001b[0m\u001b[0mself\u001b[0m\u001b[0;34m,\u001b[0m \u001b[0mhook\u001b[0m\u001b[0;34m)\u001b[0m\u001b[0;34m:\u001b[0m\u001b[0;34m\u001b[0m\u001b[0;34m\u001b[0m\u001b[0m\n",
      "\u001b[0;32m~/miniconda3/envs/gnn/lib/python3.7/site-packages/torch/autograd/__init__.py\u001b[0m in \u001b[0;36mbackward\u001b[0;34m(tensors, grad_tensors, retain_graph, create_graph, grad_variables)\u001b[0m\n\u001b[1;32m     97\u001b[0m     Variable._execution_engine.run_backward(\n\u001b[1;32m     98\u001b[0m         \u001b[0mtensors\u001b[0m\u001b[0;34m,\u001b[0m \u001b[0mgrad_tensors\u001b[0m\u001b[0;34m,\u001b[0m \u001b[0mretain_graph\u001b[0m\u001b[0;34m,\u001b[0m \u001b[0mcreate_graph\u001b[0m\u001b[0;34m,\u001b[0m\u001b[0;34m\u001b[0m\u001b[0;34m\u001b[0m\u001b[0m\n\u001b[0;32m---> 99\u001b[0;31m         allow_unreachable=True)  # allow_unreachable flag\n\u001b[0m\u001b[1;32m    100\u001b[0m \u001b[0;34m\u001b[0m\u001b[0m\n\u001b[1;32m    101\u001b[0m \u001b[0;34m\u001b[0m\u001b[0m\n",
      "\u001b[0;31mKeyboardInterrupt\u001b[0m: "
     ]
    },
    {
     "data": {
      "image/png": "[encoded data removed]",
      "text/plain": [
       "<Figure size 432x288 with 1 Axes>"
      ]
     },
     "metadata": {
      "needs_background": "light"
     },
     "output_type": "display_data"
    }
   ],
   "source": [
    "undu_K, his_FEL_power= training_loop(\n",
    "    n_epochs = n_epochs,\n",
    "    const_K = const_K,\n",
    "    param_K = param_K,\n",
    "    lr_const = lr_const,\n",
    "    lr_param = lr_param,\n",
    "    z_steps = z_steps,\n",
    "    his_FEL_power = his_FEL_power)"
   ]
  },
  {
   "cell_type": "code",
   "execution_count": null,
   "metadata": {},
   "outputs": [],
   "source": []
  },
  {
   "cell_type": "code",
   "execution_count": 38,
   "metadata": {},
   "outputs": [
    {
     "data": {
      "text/plain": [
       "Text(0.5, 1.0, 'output FEL power vs. epochs')"
      ]
     },
     "execution_count": 38,
     "metadata": {},
     "output_type": "execute_result"
    },
    {
     "data": {
      "image/png": "[encoded data removed]",
      "text/plain": [
       "<Figure size 432x288 with 1 Axes>"
      ]
     },
     "metadata": {
      "needs_background": "light"
     },
     "output_type": "display_data"
    },
    {
     "data": {
      "image/png": "[encoded data removed]",
      "text/plain": [
       "<Figure size 432x288 with 1 Axes>"
      ]
     },
     "metadata": {
      "needs_background": "light"
     },
     "output_type": "display_data"
    }
   ],
   "source": [
    "plt.figure()\n",
    "plt.plot(undu_K.detach().numpy())\n",
    "plt.title('final taper value')\n",
    "plt.figure()\n",
    "plt.plot(his_FEL_power,'.-')\n",
    "plt.title('output FEL power vs. epochs')"
   ]
  },
  {
   "cell_type": "code",
   "execution_count": null,
   "metadata": {},
   "outputs": [],
   "source": []
  },
  {
   "cell_type": "code",
   "execution_count": null,
   "metadata": {},
   "outputs": [],
   "source": []
  },
  {
   "cell_type": "code",
   "execution_count": null,
   "metadata": {},
   "outputs": [],
   "source": []
  },
  {
   "cell_type": "code",
   "execution_count": null,
   "metadata": {},
   "outputs": [],
   "source": []
  },
  {
   "cell_type": "code",
   "execution_count": null,
   "metadata": {},
   "outputs": [],
   "source": []
  },
  {
   "cell_type": "code",
   "execution_count": null,
   "metadata": {},
   "outputs": [],
   "source": []
  },
  {
   "cell_type": "code",
   "execution_count": null,
   "metadata": {},
   "outputs": [],
   "source": []
  },
  {
   "cell_type": "code",
   "execution_count": null,
   "metadata": {},
   "outputs": [],
   "source": []
  },
  {
   "cell_type": "code",
   "execution_count": null,
   "metadata": {},
   "outputs": [],
   "source": []
  },
  {
   "cell_type": "code",
   "execution_count": null,
   "metadata": {},
   "outputs": [],
   "source": []
  },
  {
   "cell_type": "code",
   "execution_count": null,
   "metadata": {},
   "outputs": [],
   "source": []
  },
  {
   "cell_type": "code",
   "execution_count": null,
   "metadata": {},
   "outputs": [],
   "source": []
  },
  {
   "cell_type": "code",
   "execution_count": null,
   "metadata": {},
   "outputs": [],
   "source": []
  },
  {
   "cell_type": "code",
   "execution_count": null,
   "metadata": {},
   "outputs": [],
   "source": []
  },
  {
   "cell_type": "code",
   "execution_count": null,
   "metadata": {},
   "outputs": [],
   "source": []
  },
  {
   "cell_type": "code",
   "execution_count": null,
   "metadata": {},
   "outputs": [],
   "source": []
  }
 ],
 "metadata": {
  "kernelspec": {
   "display_name": "Python 3",
   "language": "python",
   "name": "python3"
  },
  "language_info": {
   "codemirror_mode": {
    "name": "ipython",
    "version": 3
   },
   "file_extension": ".py",
   "mimetype": "text/x-python",
   "name": "python",
   "nbconvert_exporter": "python",
   "pygments_lexer": "ipython3",
   "version": "3.7.5"
  }
 },
 "nbformat": 4,
 "nbformat_minor": 2
}
